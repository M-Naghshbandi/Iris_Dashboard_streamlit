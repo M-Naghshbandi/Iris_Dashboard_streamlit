{
 "cells": [
  {
   "cell_type": "code",
   "execution_count": 1,
   "id": "f9768812",
   "metadata": {},
   "outputs": [],
   "source": [
    "import pandas as pd\n",
    "import numpy as np\n",
    "import matplotlib.pyplot as plt"
   ]
  },
  {
   "cell_type": "code",
   "execution_count": 3,
   "id": "38e7c5cf",
   "metadata": {},
   "outputs": [
    {
     "data": {
      "text/html": [
       "<div>\n",
       "<style scoped>\n",
       "    .dataframe tbody tr th:only-of-type {\n",
       "        vertical-align: middle;\n",
       "    }\n",
       "\n",
       "    .dataframe tbody tr th {\n",
       "        vertical-align: top;\n",
       "    }\n",
       "\n",
       "    .dataframe thead th {\n",
       "        text-align: right;\n",
       "    }\n",
       "</style>\n",
       "<table border=\"1\" class=\"dataframe\">\n",
       "  <thead>\n",
       "    <tr style=\"text-align: right;\">\n",
       "      <th></th>\n",
       "      <th>Year</th>\n",
       "      <th>Cases</th>\n",
       "    </tr>\n",
       "  </thead>\n",
       "  <tbody>\n",
       "    <tr>\n",
       "      <th>0</th>\n",
       "      <td>1905-06-12</td>\n",
       "      <td>243000.0</td>\n",
       "    </tr>\n",
       "    <tr>\n",
       "      <th>1</th>\n",
       "      <td>1905-06-13</td>\n",
       "      <td>214000.0</td>\n",
       "    </tr>\n",
       "    <tr>\n",
       "      <th>2</th>\n",
       "      <td>1905-06-14</td>\n",
       "      <td>219500.0</td>\n",
       "    </tr>\n",
       "    <tr>\n",
       "      <th>3</th>\n",
       "      <td>1905-06-15</td>\n",
       "      <td>225000.0</td>\n",
       "    </tr>\n",
       "    <tr>\n",
       "      <th>4</th>\n",
       "      <td>1905-06-16</td>\n",
       "      <td>239500.0</td>\n",
       "    </tr>\n",
       "  </tbody>\n",
       "</table>\n",
       "</div>"
      ],
      "text/plain": [
       "        Year     Cases\n",
       "0 1905-06-12  243000.0\n",
       "1 1905-06-13  214000.0\n",
       "2 1905-06-14  219500.0\n",
       "3 1905-06-15  225000.0\n",
       "4 1905-06-16  239500.0"
      ]
     },
     "execution_count": 3,
     "metadata": {},
     "output_type": "execute_result"
    }
   ],
   "source": [
    "dataset=pd.read_excel(\"Irish.xlsx\")\n",
    "dataset.head()"
   ]
  },
  {
   "cell_type": "code",
   "execution_count": 5,
   "id": "8f6b5301",
   "metadata": {},
   "outputs": [
    {
     "data": {
      "text/html": [
       "<div>\n",
       "<style scoped>\n",
       "    .dataframe tbody tr th:only-of-type {\n",
       "        vertical-align: middle;\n",
       "    }\n",
       "\n",
       "    .dataframe tbody tr th {\n",
       "        vertical-align: top;\n",
       "    }\n",
       "\n",
       "    .dataframe thead th {\n",
       "        text-align: right;\n",
       "    }\n",
       "</style>\n",
       "<table border=\"1\" class=\"dataframe\">\n",
       "  <thead>\n",
       "    <tr style=\"text-align: right;\">\n",
       "      <th></th>\n",
       "      <th>Cases</th>\n",
       "    </tr>\n",
       "    <tr>\n",
       "      <th>Year</th>\n",
       "      <th></th>\n",
       "    </tr>\n",
       "  </thead>\n",
       "  <tbody>\n",
       "    <tr>\n",
       "      <th>1905-06-12</th>\n",
       "      <td>243000.0</td>\n",
       "    </tr>\n",
       "    <tr>\n",
       "      <th>1905-06-13</th>\n",
       "      <td>214000.0</td>\n",
       "    </tr>\n",
       "    <tr>\n",
       "      <th>1905-06-14</th>\n",
       "      <td>219500.0</td>\n",
       "    </tr>\n",
       "    <tr>\n",
       "      <th>1905-06-15</th>\n",
       "      <td>225000.0</td>\n",
       "    </tr>\n",
       "    <tr>\n",
       "      <th>1905-06-16</th>\n",
       "      <td>239500.0</td>\n",
       "    </tr>\n",
       "  </tbody>\n",
       "</table>\n",
       "</div>"
      ],
      "text/plain": [
       "               Cases\n",
       "Year                \n",
       "1905-06-12  243000.0\n",
       "1905-06-13  214000.0\n",
       "1905-06-14  219500.0\n",
       "1905-06-15  225000.0\n",
       "1905-06-16  239500.0"
      ]
     },
     "execution_count": 5,
     "metadata": {},
     "output_type": "execute_result"
    }
   ],
   "source": [
    "dataset.set_index('Year', inplace=True)\n",
    "dataset.head()"
   ]
  },
  {
   "cell_type": "code",
   "execution_count": 6,
   "id": "7459fa81",
   "metadata": {},
   "outputs": [],
   "source": [
    "dataset=dataset.fillna(method=\"ffill\")"
   ]
  },
  {
   "cell_type": "code",
   "execution_count": 7,
   "id": "69a0b37f",
   "metadata": {},
   "outputs": [
    {
     "data": {
      "text/plain": [
       "<function matplotlib.pyplot.show(close=None, block=None)>"
      ]
     },
     "execution_count": 7,
     "metadata": {},
     "output_type": "execute_result"
    },
    {
     "data": {
      "image/png": "[encoded data removed]",
      "text/plain": [
       "<Figure size 1440x360 with 1 Axes>"
      ]
     },
     "metadata": {
      "needs_background": "light"
     },
     "output_type": "display_data"
    }
   ],
   "source": [
    "dataset.plot(figsize=(20,5))\n",
    "plt.title(\"time series\")\n",
    "plt.show"
   ]
  },
  {
   "cell_type": "code",
   "execution_count": 8,
   "id": "4ee2b4b1",
   "metadata": {},
   "outputs": [],
   "source": [
    "def to_supervised(train,n_input,n_out):\n",
    "    #falten data\n",
    "    data=train\n",
    "    X,y=list(),list()\n",
    "    in_start=0\n",
    "    for _ in range(len(data)):\n",
    "        in_end=in_start+ n_input\n",
    "        out_end=in_end + n_out\n",
    "        if out_end<=len(data):\n",
    "            x_input=data[ in_start:in_end,0]\n",
    "            x_input=x_input.reshape((len(x_input)))\n",
    "            X.append(x_input)\n",
    "            y.append(data[in_end:out_end,0])\n",
    "        in_start+=1\n",
    "    return array(X), array(y)   "
   ]
  },
  {
   "cell_type": "code",
   "execution_count": 9,
   "id": "d3113606",
   "metadata": {},
   "outputs": [],
   "source": [
    "import statsmodels.tsa.stattools as sts"
   ]
  },
  {
   "cell_type": "code",
   "execution_count": 10,
   "id": "f8fef0fa",
   "metadata": {},
   "outputs": [
    {
     "data": {
      "text/plain": [
       "(-14.086414060476837,\n",
       " 2.7703618270419004e-26,\n",
       " 29,\n",
       " 4101,\n",
       " {'1%': -3.431945561538905,\n",
       "  '5%': -2.862245031653711,\n",
       "  '10%': -2.567145295038988},\n",
       " 89144.33764181501)"
      ]
     },
     "execution_count": 10,
     "metadata": {},
     "output_type": "execute_result"
    }
   ],
   "source": [
    "sts.adfuller(dataset.Cases)"
   ]
  },
  {
   "cell_type": "code",
   "execution_count": 11,
   "id": "75240a99",
   "metadata": {},
   "outputs": [],
   "source": [
    "from statsmodels.graphics.tsaplots import plot_acf"
   ]
  },
  {
   "cell_type": "code",
   "execution_count": 12,
   "id": "a9e1bbf4",
   "metadata": {},
   "outputs": [
    {
     "data": {
      "image/png": "[encoded data removed]",
      "text/plain": [
       "<Figure size 432x288 with 1 Axes>"
      ]
     },
     "metadata": {
      "needs_background": "light"
     },
     "output_type": "display_data"
    }
   ],
   "source": [
    "plot_acf(dataset, lags=49)\n",
    "plt.show()"
   ]
  },
  {
   "cell_type": "code",
   "execution_count": 13,
   "id": "e1934d10",
   "metadata": {},
   "outputs": [],
   "source": [
    "from numpy import array"
   ]
  },
  {
   "cell_type": "code",
   "execution_count": 14,
   "id": "61f3aa1f",
   "metadata": {},
   "outputs": [],
   "source": [
    "n_step=1\n",
    "lags=22"
   ]
  },
  {
   "cell_type": "code",
   "execution_count": 15,
   "id": "69febc87",
   "metadata": {},
   "outputs": [
    {
     "data": {
      "text/plain": [
       "array([[2.430e+05],\n",
       "       [2.140e+05],\n",
       "       [2.195e+05],\n",
       "       ...,\n",
       "       [5.000e+01],\n",
       "       [5.000e+01],\n",
       "       [5.000e+01]])"
      ]
     },
     "execution_count": 15,
     "metadata": {},
     "output_type": "execute_result"
    }
   ],
   "source": [
    "dataset=np.array(dataset)\n",
    "dataset"
   ]
  },
  {
   "cell_type": "code",
   "execution_count": 16,
   "id": "039017de",
   "metadata": {},
   "outputs": [],
   "source": [
    "X,y=to_supervised(dataset,n_input=lags,n_out=n_step)"
   ]
  },
  {
   "cell_type": "code",
   "execution_count": 17,
   "id": "b616f741",
   "metadata": {},
   "outputs": [],
   "source": [
    "from sklearn.model_selection import train_test_split"
   ]
  },
  {
   "cell_type": "code",
   "execution_count": 18,
   "id": "1ed3213b",
   "metadata": {},
   "outputs": [],
   "source": [
    "x_train, x_test, y_train, y_test = train_test_split(X, y, test_size=0.33, random_state=42)"
   ]
  },
  {
   "cell_type": "code",
   "execution_count": 19,
   "id": "92bb75ab",
   "metadata": {},
   "outputs": [],
   "source": [
    "from sklearn.preprocessing import MinMaxScaler"
   ]
  },
  {
   "cell_type": "code",
   "execution_count": 20,
   "id": "7b39de87",
   "metadata": {},
   "outputs": [],
   "source": [
    "scaler=MinMaxScaler(feature_range=(0,1))"
   ]
  },
  {
   "cell_type": "code",
   "execution_count": 21,
   "id": "8cbe7fdf",
   "metadata": {},
   "outputs": [
    {
     "data": {
      "text/plain": [
       "((2753, 22), (2753, 1))"
      ]
     },
     "execution_count": 21,
     "metadata": {},
     "output_type": "execute_result"
    }
   ],
   "source": [
    "x_train=scaler.fit_transform(x_train)\n",
    "y_train=scaler.fit_transform(y_train)\n",
    "x_train.shape,y_train.shape"
   ]
  },
  {
   "cell_type": "code",
   "execution_count": 22,
   "id": "05376965",
   "metadata": {},
   "outputs": [
    {
     "data": {
      "text/plain": [
       "((1356, 22), (1356, 1))"
      ]
     },
     "execution_count": 22,
     "metadata": {},
     "output_type": "execute_result"
    }
   ],
   "source": [
    "x_test=scaler.fit_transform(x_test)\n",
    "y_tset=scaler.fit_transform(y_test)\n",
    "x_test.shape,y_test.shape"
   ]
  },
  {
   "cell_type": "code",
   "execution_count": 23,
   "id": "4016973b",
   "metadata": {},
   "outputs": [],
   "source": [
    "from keras.models import Sequential\n",
    "from keras.layers import Dense,LSTM,GRU,Conv1D,MaxPooling1D,Flatten,Dropout"
   ]
  },
  {
   "cell_type": "code",
   "execution_count": 24,
   "id": "d4ce4352",
   "metadata": {},
   "outputs": [],
   "source": [
    "x_train_3d=x_train.reshape(x_train.shape[0],x_train.shape[1],1)                         \n",
    "x_test_3d=x_test.reshape(x_test.shape[0],x_test.shape[1],1)   "
   ]
  },
  {
   "cell_type": "code",
   "execution_count": 26,
   "id": "626e668b",
   "metadata": {},
   "outputs": [],
   "source": [
    "model_Gru=Sequential()\n",
    "model_Gru.add(GRU(10,activation=\"relu\",input_shape=(x_train_3d.shape[1],x_train_3d.shape[2]),return_sequences=True))\n",
    "\n",
    "model_Gru.add(GRU(20,activation=\"relu\",return_sequences=True))\n",
    "\n",
    "model_Gru.add(GRU(30,activation=\"relu\",return_sequences=False))\n",
    "model_Gru.add(Dense(n_step))\n",
    "model_Gru.compile(optimizer=\"adam\", loss='mse')"
   ]
  },
  {
   "cell_type": "code",
   "execution_count": 27,
   "id": "a6327fa5",
   "metadata": {},
   "outputs": [
    {
     "name": "stdout",
     "output_type": "stream",
     "text": [
      "Epoch 1/100\n",
      "173/173 [==============================] - 6s 15ms/step - loss: 9.7842e-04\n",
      "Epoch 2/100\n",
      "173/173 [==============================] - 3s 17ms/step - loss: 5.9886e-04\n",
      "Epoch 3/100\n",
      "173/173 [==============================] - 3s 16ms/step - loss: 5.7133e-04\n",
      "Epoch 4/100\n",
      "173/173 [==============================] - 3s 17ms/step - loss: 3.9983e-04\n",
      "Epoch 5/100\n",
      "173/173 [==============================] - 3s 16ms/step - loss: 4.2022e-04\n",
      "Epoch 6/100\n",
      "173/173 [==============================] - 3s 17ms/step - loss: 3.4367e-04\n",
      "Epoch 7/100\n",
      "173/173 [==============================] - 3s 15ms/step - loss: 3.8575e-04\n",
      "Epoch 8/100\n",
      "173/173 [==============================] - 3s 16ms/step - loss: 3.4193e-04\n",
      "Epoch 9/100\n",
      "173/173 [==============================] - 3s 16ms/step - loss: 3.1034e-04\n",
      "Epoch 10/100\n",
      "173/173 [==============================] - 3s 16ms/step - loss: 3.4024e-04\n",
      "Epoch 11/100\n",
      "173/173 [==============================] - 3s 16ms/step - loss: 3.2062e-04\n",
      "Epoch 12/100\n",
      "173/173 [==============================] - 3s 17ms/step - loss: 3.1530e-04\n",
      "Epoch 13/100\n",
      "173/173 [==============================] - 3s 16ms/step - loss: 3.0532e-04\n",
      "Epoch 14/100\n",
      "173/173 [==============================] - 3s 16ms/step - loss: 3.0671e-04\n",
      "Epoch 15/100\n",
      "173/173 [==============================] - 3s 16ms/step - loss: 2.8628e-04\n",
      "Epoch 16/100\n",
      "173/173 [==============================] - 3s 16ms/step - loss: 2.9268e-04\n",
      "Epoch 17/100\n",
      "173/173 [==============================] - 3s 16ms/step - loss: 2.5908e-04\n",
      "Epoch 18/100\n",
      "173/173 [==============================] - 3s 17ms/step - loss: 2.8387e-04\n",
      "Epoch 19/100\n",
      "173/173 [==============================] - 3s 16ms/step - loss: 2.8471e-04\n",
      "Epoch 20/100\n",
      "173/173 [==============================] - 3s 16ms/step - loss: 2.7783e-04\n",
      "Epoch 21/100\n",
      "173/173 [==============================] - 3s 16ms/step - loss: 2.4839e-04\n",
      "Epoch 22/100\n",
      "173/173 [==============================] - 3s 16ms/step - loss: 2.5119e-04\n",
      "Epoch 23/100\n",
      "173/173 [==============================] - 3s 16ms/step - loss: 2.7145e-04\n",
      "Epoch 24/100\n",
      "173/173 [==============================] - 3s 15ms/step - loss: 2.5057e-04\n",
      "Epoch 25/100\n",
      "173/173 [==============================] - 3s 16ms/step - loss: 2.4752e-04\n",
      "Epoch 26/100\n",
      "173/173 [==============================] - 3s 16ms/step - loss: 2.5669e-04\n",
      "Epoch 27/100\n",
      "173/173 [==============================] - 3s 16ms/step - loss: 2.5057e-04\n",
      "Epoch 28/100\n",
      "173/173 [==============================] - 3s 17ms/step - loss: 2.2585e-04\n",
      "Epoch 29/100\n",
      "173/173 [==============================] - 3s 16ms/step - loss: 2.3135e-04\n",
      "Epoch 30/100\n",
      "173/173 [==============================] - 3s 16ms/step - loss: 2.3658e-04\n",
      "Epoch 31/100\n",
      "173/173 [==============================] - 3s 16ms/step - loss: 2.5356e-04\n",
      "Epoch 32/100\n",
      "173/173 [==============================] - 3s 16ms/step - loss: 2.4642e-04\n",
      "Epoch 33/100\n",
      "173/173 [==============================] - 3s 16ms/step - loss: 2.1174e-04\n",
      "Epoch 34/100\n",
      "173/173 [==============================] - 3s 16ms/step - loss: 2.2113e-04\n",
      "Epoch 35/100\n",
      "173/173 [==============================] - 3s 16ms/step - loss: 2.4751e-04\n",
      "Epoch 36/100\n",
      "173/173 [==============================] - 3s 16ms/step - loss: 2.3965e-04\n",
      "Epoch 37/100\n",
      "173/173 [==============================] - 3s 16ms/step - loss: 2.3719e-04\n",
      "Epoch 38/100\n",
      "173/173 [==============================] - 3s 16ms/step - loss: 2.3227e-04\n",
      "Epoch 39/100\n",
      "173/173 [==============================] - 3s 16ms/step - loss: 2.2771e-04\n",
      "Epoch 40/100\n",
      "173/173 [==============================] - 3s 16ms/step - loss: 2.6846e-04\n",
      "Epoch 41/100\n",
      "173/173 [==============================] - 3s 16ms/step - loss: 2.5006e-04\n",
      "Epoch 42/100\n",
      "173/173 [==============================] - 3s 16ms/step - loss: 2.2052e-04\n",
      "Epoch 43/100\n",
      "173/173 [==============================] - 3s 16ms/step - loss: 2.1510e-04\n",
      "Epoch 44/100\n",
      "173/173 [==============================] - 3s 16ms/step - loss: 2.1975e-04\n",
      "Epoch 45/100\n",
      "173/173 [==============================] - 3s 17ms/step - loss: 2.3523e-04\n",
      "Epoch 46/100\n",
      "173/173 [==============================] - 3s 16ms/step - loss: 2.3865e-04\n",
      "Epoch 47/100\n",
      "173/173 [==============================] - 3s 16ms/step - loss: 2.3451e-04\n",
      "Epoch 48/100\n",
      "173/173 [==============================] - 3s 16ms/step - loss: 2.1329e-04: 0s - loss: 2.2252e\n",
      "Epoch 49/100\n",
      "173/173 [==============================] - 3s 16ms/step - loss: 2.1532e-04\n",
      "Epoch 50/100\n",
      "173/173 [==============================] - 3s 16ms/step - loss: 2.2033e-04\n",
      "Epoch 51/100\n",
      "173/173 [==============================] - 3s 16ms/step - loss: 2.2250e-04\n",
      "Epoch 52/100\n",
      "173/173 [==============================] - 3s 16ms/step - loss: 2.1416e-04\n",
      "Epoch 53/100\n",
      "173/173 [==============================] - 3s 16ms/step - loss: 2.2671e-04\n",
      "Epoch 54/100\n",
      "173/173 [==============================] - 3s 16ms/step - loss: 2.2406e-04\n",
      "Epoch 55/100\n",
      "173/173 [==============================] - 3s 16ms/step - loss: 2.1208e-04\n",
      "Epoch 56/100\n",
      "173/173 [==============================] - 3s 16ms/step - loss: 2.0894e-04\n",
      "Epoch 57/100\n",
      "173/173 [==============================] - 3s 16ms/step - loss: 1.9793e-04\n",
      "Epoch 58/100\n",
      "173/173 [==============================] - 3s 16ms/step - loss: 2.2957e-04\n",
      "Epoch 59/100\n",
      "173/173 [==============================] - 3s 16ms/step - loss: 2.2055e-04\n",
      "Epoch 60/100\n",
      "173/173 [==============================] - 3s 16ms/step - loss: 2.2256e-04\n",
      "Epoch 61/100\n",
      "173/173 [==============================] - 3s 17ms/step - loss: 2.2354e-04\n",
      "Epoch 62/100\n",
      "173/173 [==============================] - 3s 16ms/step - loss: 2.1314e-04\n",
      "Epoch 63/100\n",
      "173/173 [==============================] - 3s 16ms/step - loss: 2.0095e-04\n",
      "Epoch 64/100\n",
      "173/173 [==============================] - 3s 16ms/step - loss: 2.1711e-04\n",
      "Epoch 65/100\n",
      "173/173 [==============================] - 3s 16ms/step - loss: 2.1063e-04\n",
      "Epoch 66/100\n",
      "173/173 [==============================] - 3s 16ms/step - loss: 1.8506e-04\n",
      "Epoch 67/100\n",
      "173/173 [==============================] - 3s 16ms/step - loss: 2.1009e-04\n",
      "Epoch 68/100\n",
      "173/173 [==============================] - 3s 16ms/step - loss: 2.2393e-04\n",
      "Epoch 69/100\n",
      "173/173 [==============================] - 3s 16ms/step - loss: 1.9763e-04\n",
      "Epoch 70/100\n",
      "173/173 [==============================] - 3s 16ms/step - loss: 2.0665e-04\n",
      "Epoch 71/100\n",
      "173/173 [==============================] - 3s 16ms/step - loss: 2.0329e-04\n",
      "Epoch 72/100\n",
      "173/173 [==============================] - 3s 16ms/step - loss: 2.1237e-04\n",
      "Epoch 73/100\n",
      "173/173 [==============================] - 3s 16ms/step - loss: 2.1092e-04\n",
      "Epoch 74/100\n",
      "173/173 [==============================] - 3s 16ms/step - loss: 1.9800e-04\n",
      "Epoch 75/100\n",
      "173/173 [==============================] - 3s 16ms/step - loss: 2.0655e-04\n",
      "Epoch 76/100\n",
      "173/173 [==============================] - 3s 16ms/step - loss: 1.9290e-04\n",
      "Epoch 77/100\n",
      "173/173 [==============================] - 3s 16ms/step - loss: 1.9549e-04\n",
      "Epoch 78/100\n",
      "173/173 [==============================] - 3s 16ms/step - loss: 1.9088e-04\n",
      "Epoch 79/100\n",
      "173/173 [==============================] - 3s 16ms/step - loss: 2.1676e-04\n",
      "Epoch 80/100\n",
      "173/173 [==============================] - 3s 16ms/step - loss: 1.9759e-04\n",
      "Epoch 81/100\n",
      "173/173 [==============================] - 3s 16ms/step - loss: 2.0114e-04\n",
      "Epoch 82/100\n",
      "173/173 [==============================] - 3s 16ms/step - loss: 2.0759e-04\n",
      "Epoch 83/100\n",
      "173/173 [==============================] - 3s 17ms/step - loss: 2.0560e-04\n",
      "Epoch 84/100\n",
      "173/173 [==============================] - 3s 16ms/step - loss: 2.0237e-04\n",
      "Epoch 85/100\n",
      "173/173 [==============================] - 3s 16ms/step - loss: 1.9999e-04\n",
      "Epoch 86/100\n",
      "173/173 [==============================] - 3s 16ms/step - loss: 2.0042e-04\n",
      "Epoch 87/100\n",
      "173/173 [==============================] - 3s 16ms/step - loss: 1.9793e-04\n",
      "Epoch 88/100\n",
      "173/173 [==============================] - 3s 16ms/step - loss: 2.0165e-04\n",
      "Epoch 89/100\n",
      "173/173 [==============================] - 3s 16ms/step - loss: 2.0077e-04\n",
      "Epoch 90/100\n",
      "173/173 [==============================] - 3s 16ms/step - loss: 1.9909e-04\n",
      "Epoch 91/100\n",
      "173/173 [==============================] - 3s 16ms/step - loss: 1.9570e-04\n",
      "Epoch 92/100\n",
      "173/173 [==============================] - 3s 16ms/step - loss: 1.8694e-04\n",
      "Epoch 93/100\n",
      "173/173 [==============================] - 3s 16ms/step - loss: 2.0061e-04\n"
     ]
    },
    {
     "name": "stdout",
     "output_type": "stream",
     "text": [
      "Epoch 94/100\n",
      "173/173 [==============================] - 3s 16ms/step - loss: 1.8642e-04\n",
      "Epoch 95/100\n",
      "173/173 [==============================] - 3s 16ms/step - loss: 1.9422e-04\n",
      "Epoch 96/100\n",
      "173/173 [==============================] - 3s 16ms/step - loss: 1.8567e-04\n",
      "Epoch 97/100\n",
      "173/173 [==============================] - 3s 15ms/step - loss: 2.0545e-04\n",
      "Epoch 98/100\n",
      "173/173 [==============================] - 3s 15ms/step - loss: 1.9369e-04\n",
      "Epoch 99/100\n",
      "173/173 [==============================] - 3s 16ms/step - loss: 1.8681e-04\n",
      "Epoch 100/100\n",
      "173/173 [==============================] - 3s 16ms/step - loss: 1.9312e-04\n"
     ]
    },
    {
     "data": {
      "text/plain": [
       "<keras.callbacks.History at 0x239b3aa39a0>"
      ]
     },
     "execution_count": 27,
     "metadata": {},
     "output_type": "execute_result"
    }
   ],
   "source": [
    "model_Gru.fit(x_train_3d,y_train,epochs=100,batch_size=16)"
   ]
  },
  {
   "cell_type": "code",
   "execution_count": 28,
   "id": "7633f9bc",
   "metadata": {},
   "outputs": [
    {
     "data": {
      "text/plain": [
       "(1356, 1)"
      ]
     },
     "execution_count": 28,
     "metadata": {},
     "output_type": "execute_result"
    }
   ],
   "source": [
    "predict_Gru=model_Gru.predict(x_test_3d)\n",
    "predict_Gru.shape"
   ]
  },
  {
   "cell_type": "code",
   "execution_count": 29,
   "id": "c24ce137",
   "metadata": {},
   "outputs": [],
   "source": [
    "from sklearn.metrics import mean_squared_error"
   ]
  },
  {
   "cell_type": "code",
   "execution_count": 30,
   "id": "607b1fa5",
   "metadata": {},
   "outputs": [
    {
     "data": {
      "text/plain": [
       "7529441499.00072"
      ]
     },
     "execution_count": 30,
     "metadata": {},
     "output_type": "execute_result"
    }
   ],
   "source": [
    "mse_Gru=mean_squared_error(y_test,predict_Gru)\n",
    "mse_Gru"
   ]
  },
  {
   "cell_type": "code",
   "execution_count": 31,
   "id": "14287b1f",
   "metadata": {},
   "outputs": [],
   "source": [
    "inv_y_test=scaler.inverse_transform(y_test)\n",
    "inv_y_pred_Gru=scaler.inverse_transform(predict_Gru)"
   ]
  },
  {
   "cell_type": "code",
   "execution_count": 32,
   "id": "3237dd81",
   "metadata": {},
   "outputs": [
    {
     "data": {
      "text/plain": [
       "[<matplotlib.lines.Line2D at 0x239ba307130>]"
      ]
     },
     "execution_count": 32,
     "metadata": {},
     "output_type": "execute_result"
    },
    {
     "data": {
      "image/png": "[encoded data removed]",
      "text/plain": [
       "<Figure size 1080x720 with 1 Axes>"
      ]
     },
     "metadata": {
      "needs_background": "light"
     },
     "output_type": "display_data"
    }
   ],
   "source": [
    "fig=plt.figure(figsize=(15,10))\n",
    "plt.plot(inv_y_test[:,:2],color='b',label=\"Real\")\n",
    "plt.plot(inv_y_pred_Gru,color='r',label=\"predicted\")"
   ]
  },
  {
   "cell_type": "code",
   "execution_count": null,
   "id": "ed60b153",
   "metadata": {},
   "outputs": [],
   "source": []
  }
 ],
 "metadata": {
  "kernelspec": {
   "display_name": "Python 3",
   "language": "python",
   "name": "python3"
  },
  "language_info": {
   "codemirror_mode": {
    "name": "ipython",
    "version": 3
   },
   "file_extension": ".py",
   "mimetype": "text/x-python",
   "name": "python",
   "nbconvert_exporter": "python",
   "pygments_lexer": "ipython3",
   "version": "3.8.8"
  }
 },
 "nbformat": 4,
 "nbformat_minor": 5
}
